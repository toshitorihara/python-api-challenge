{
 "cells": [
  {
   "source": [
    "# VacationPy"
   ],
   "cell_type": "markdown",
   "metadata": {}
  },
  {
   "cell_type": "code",
   "execution_count": 1,
   "metadata": {},
   "outputs": [],
   "source": [
    "# Dependencies and Setup\n",
    "import matplotlib.pyplot as plt\n",
    "import pandas as pd\n",
    "import numpy as np\n",
    "import requests\n",
    "import gmaps\n",
    "import os\n",
    "\n",
    "# Import API key\n",
    "from api_keys import g_key\n",
    "\n",
    "# https://developers.google.com/maps/reporting/gmp-reporting as reference for how to monitor your usage and billing."
   ]
  },
  {
   "source": [
    "## Store Part I results into DataFrame"
   ],
   "cell_type": "markdown",
   "metadata": {}
  },
  {
   "cell_type": "code",
   "execution_count": 3,
   "metadata": {},
   "outputs": [
    {
     "output_type": "execute_result",
     "data": {
      "text/plain": [
       "      No  City ID                City Country      Lat       Lng  Temperature  \\\n",
       "0      0   986717        Kruisfontein      ZA -34.0033   24.7314        48.88   \n",
       "1      1   746983            Gelibolu      TR  40.4103   26.6708        76.86   \n",
       "2      2  2206939               Bluff      NZ -46.6000  168.3333        49.80   \n",
       "3      3   537094              Lal'sk      RU  60.7415   47.5862        70.74   \n",
       "4      4  5122534           Jamestown      US  42.0970  -79.2353        78.28   \n",
       "..   ...      ...                 ...     ...      ...       ...          ...   \n",
       "554  554  3451399  Ribas do Rio Pardo      BR -20.4431  -53.7592        80.53   \n",
       "555  555   186180              Moyale      KE   3.5167   39.0584        69.73   \n",
       "556  556   934479         Grand Gaube      MU -20.0064   57.6608        69.39   \n",
       "557  557  3118304              Llanes      ES  43.4198   -4.7549        62.02   \n",
       "558  558  2629833             Husavik      IS  66.0449  -17.3389        53.51   \n",
       "\n",
       "     Humidity  Clouds  Wind Speed  \n",
       "0          89       3        4.41  \n",
       "1          76       0        1.77  \n",
       "2          96     100        9.26  \n",
       "3          69      41        5.01  \n",
       "4          39       1       11.01  \n",
       "..        ...     ...         ...  \n",
       "554        32      97        8.30  \n",
       "555        60     100       10.42  \n",
       "556        64      93        4.00  \n",
       "557        80      39        4.83  \n",
       "558        67     100        4.16  \n",
       "\n",
       "[559 rows x 10 columns]"
      ],
      "text/html": "<div>\n<style scoped>\n    .dataframe tbody tr th:only-of-type {\n        vertical-align: middle;\n    }\n\n    .dataframe tbody tr th {\n        vertical-align: top;\n    }\n\n    .dataframe thead th {\n        text-align: right;\n    }\n</style>\n<table border=\"1\" class=\"dataframe\">\n  <thead>\n    <tr style=\"text-align: right;\">\n      <th></th>\n      <th>No</th>\n      <th>City ID</th>\n      <th>City</th>\n      <th>Country</th>\n      <th>Lat</th>\n      <th>Lng</th>\n      <th>Temperature</th>\n      <th>Humidity</th>\n      <th>Clouds</th>\n      <th>Wind Speed</th>\n    </tr>\n  </thead>\n  <tbody>\n    <tr>\n      <th>0</th>\n      <td>0</td>\n      <td>986717</td>\n      <td>Kruisfontein</td>\n      <td>ZA</td>\n      <td>-34.0033</td>\n      <td>24.7314</td>\n      <td>48.88</td>\n      <td>89</td>\n      <td>3</td>\n      <td>4.41</td>\n    </tr>\n    <tr>\n      <th>1</th>\n      <td>1</td>\n      <td>746983</td>\n      <td>Gelibolu</td>\n      <td>TR</td>\n      <td>40.4103</td>\n      <td>26.6708</td>\n      <td>76.86</td>\n      <td>76</td>\n      <td>0</td>\n      <td>1.77</td>\n    </tr>\n    <tr>\n      <th>2</th>\n      <td>2</td>\n      <td>2206939</td>\n      <td>Bluff</td>\n      <td>NZ</td>\n      <td>-46.6000</td>\n      <td>168.3333</td>\n      <td>49.80</td>\n      <td>96</td>\n      <td>100</td>\n      <td>9.26</td>\n    </tr>\n    <tr>\n      <th>3</th>\n      <td>3</td>\n      <td>537094</td>\n      <td>Lal'sk</td>\n      <td>RU</td>\n      <td>60.7415</td>\n      <td>47.5862</td>\n      <td>70.74</td>\n      <td>69</td>\n      <td>41</td>\n      <td>5.01</td>\n    </tr>\n    <tr>\n      <th>4</th>\n      <td>4</td>\n      <td>5122534</td>\n      <td>Jamestown</td>\n      <td>US</td>\n      <td>42.0970</td>\n      <td>-79.2353</td>\n      <td>78.28</td>\n      <td>39</td>\n      <td>1</td>\n      <td>11.01</td>\n    </tr>\n    <tr>\n      <th>...</th>\n      <td>...</td>\n      <td>...</td>\n      <td>...</td>\n      <td>...</td>\n      <td>...</td>\n      <td>...</td>\n      <td>...</td>\n      <td>...</td>\n      <td>...</td>\n      <td>...</td>\n    </tr>\n    <tr>\n      <th>554</th>\n      <td>554</td>\n      <td>3451399</td>\n      <td>Ribas do Rio Pardo</td>\n      <td>BR</td>\n      <td>-20.4431</td>\n      <td>-53.7592</td>\n      <td>80.53</td>\n      <td>32</td>\n      <td>97</td>\n      <td>8.30</td>\n    </tr>\n    <tr>\n      <th>555</th>\n      <td>555</td>\n      <td>186180</td>\n      <td>Moyale</td>\n      <td>KE</td>\n      <td>3.5167</td>\n      <td>39.0584</td>\n      <td>69.73</td>\n      <td>60</td>\n      <td>100</td>\n      <td>10.42</td>\n    </tr>\n    <tr>\n      <th>556</th>\n      <td>556</td>\n      <td>934479</td>\n      <td>Grand Gaube</td>\n      <td>MU</td>\n      <td>-20.0064</td>\n      <td>57.6608</td>\n      <td>69.39</td>\n      <td>64</td>\n      <td>93</td>\n      <td>4.00</td>\n    </tr>\n    <tr>\n      <th>557</th>\n      <td>557</td>\n      <td>3118304</td>\n      <td>Llanes</td>\n      <td>ES</td>\n      <td>43.4198</td>\n      <td>-4.7549</td>\n      <td>62.02</td>\n      <td>80</td>\n      <td>39</td>\n      <td>4.83</td>\n    </tr>\n    <tr>\n      <th>558</th>\n      <td>558</td>\n      <td>2629833</td>\n      <td>Husavik</td>\n      <td>IS</td>\n      <td>66.0449</td>\n      <td>-17.3389</td>\n      <td>53.51</td>\n      <td>67</td>\n      <td>100</td>\n      <td>4.16</td>\n    </tr>\n  </tbody>\n</table>\n<p>559 rows × 10 columns</p>\n</div>"
     },
     "metadata": {},
     "execution_count": 3
    }
   ],
   "source": [
    "# Load the csv exported in Part I to a DataFrame\n",
    "csv_file = os.path.join('..', 'Output', 'city_weather.csv')\n",
    "weather_df = pd.read_csv(csv_file) \n",
    "weather_df"
   ]
  },
  {
   "source": [
    "## Humidity Heatmap"
   ],
   "cell_type": "markdown",
   "metadata": {}
  },
  {
   "cell_type": "code",
   "execution_count": 5,
   "metadata": {},
   "outputs": [
    {
     "output_type": "display_data",
     "data": {
      "text/plain": "Figure(layout=FigureLayout(height='420px'))",
      "application/vnd.jupyter.widget-view+json": {
       "version_major": 2,
       "version_minor": 0,
       "model_id": "b1b3c101252249dd8f4edaa461030224"
      }
     },
     "metadata": {}
    }
   ],
   "source": [
    "# Configure gmaps with API key.\n",
    "gmaps.configure(api_key=g_key)\n",
    "\n",
    "# Convert Humidity to float and store\n",
    "# Also, handle NaN values\n",
    "weather_df = weather_df.dropna()\n",
    "humidity = weather_df[\"Humidity\"].astype(float)\n",
    "\n",
    "# Store 'Latitude' and 'Longitude' into  locations. \n",
    "locations = weather_df[[\"Lat\", \"Lng\"]].astype(float)\n",
    "\n",
    "# Create a humidity Heatmap layer\n",
    "fig = gmaps.figure()\n",
    "\n",
    "heat_layer = gmaps.heatmap_layer(locations, weights=humidity, \n",
    "                                 dissipating=False, max_intensity=max(weather_df[\"Humidity\"]),\n",
    "                                 point_radius = 2)\n",
    "\n",
    "fig.add_layer(heat_layer)\n",
    "\n",
    "fig"
   ]
  },
  {
   "cell_type": "markdown",
   "metadata": {},
   "source": [
    "## Create new DataFrame fitting weather criteria"
   ]
  },
  {
   "cell_type": "code",
   "execution_count": 9,
   "metadata": {},
   "outputs": [
    {
     "output_type": "execute_result",
     "data": {
      "text/plain": [
       "      No  City ID             City Country      Lat      Lng  Temperature  \\\n",
       "1      1   746983         Gelibolu      TR  40.4103  26.6708        76.86   \n",
       "31    31  3460107          Jaraguá      BR -15.7569 -49.3344        75.42   \n",
       "72    72  5106841           Albany      US  42.6001 -73.9662        76.39   \n",
       "119  119   921906           Domoni      KM -12.2569  44.5319        73.02   \n",
       "188  188   921786      Mitsamiouli      KM -11.3847  43.2844        75.42   \n",
       "197  197  2517117          Granada      ES  37.1882  -3.6067        72.09   \n",
       "245  245  1529376            Korla      CN  41.7597  86.1469        75.78   \n",
       "289  289   139223           Chālūs      IR  36.6550  51.4204        72.86   \n",
       "327  327  1142226       Dawlatabad      AF  36.4141  64.9053        77.99   \n",
       "339  339   300058         Susurluk      TR  39.9136  28.1578        72.28   \n",
       "359  359   583345  Aleksandrov Gay      RU  50.1470  48.5704        78.91   \n",
       "440  440   293842       Kiryat Gat      IL  31.6100  34.7642        74.79   \n",
       "490  490   359796             Suez      EG  29.9737  32.5263        78.33   \n",
       "\n",
       "     Humidity  Clouds  Wind Speed  \n",
       "1          76       0        1.77  \n",
       "31         31       0        1.86  \n",
       "72         39       0        9.55  \n",
       "119        78       0        3.58  \n",
       "188        64       0        4.23  \n",
       "197        54       0        1.01  \n",
       "245        24       0        1.41  \n",
       "289        83       0        0.00  \n",
       "327        17       0        6.91  \n",
       "339        71       0        0.83  \n",
       "359        50       0        8.61  \n",
       "440        72       0        0.47  \n",
       "490        50       0        8.72  "
      ],
      "text/html": "<div>\n<style scoped>\n    .dataframe tbody tr th:only-of-type {\n        vertical-align: middle;\n    }\n\n    .dataframe tbody tr th {\n        vertical-align: top;\n    }\n\n    .dataframe thead th {\n        text-align: right;\n    }\n</style>\n<table border=\"1\" class=\"dataframe\">\n  <thead>\n    <tr style=\"text-align: right;\">\n      <th></th>\n      <th>No</th>\n      <th>City ID</th>\n      <th>City</th>\n      <th>Country</th>\n      <th>Lat</th>\n      <th>Lng</th>\n      <th>Temperature</th>\n      <th>Humidity</th>\n      <th>Clouds</th>\n      <th>Wind Speed</th>\n    </tr>\n  </thead>\n  <tbody>\n    <tr>\n      <th>1</th>\n      <td>1</td>\n      <td>746983</td>\n      <td>Gelibolu</td>\n      <td>TR</td>\n      <td>40.4103</td>\n      <td>26.6708</td>\n      <td>76.86</td>\n      <td>76</td>\n      <td>0</td>\n      <td>1.77</td>\n    </tr>\n    <tr>\n      <th>31</th>\n      <td>31</td>\n      <td>3460107</td>\n      <td>Jaraguá</td>\n      <td>BR</td>\n      <td>-15.7569</td>\n      <td>-49.3344</td>\n      <td>75.42</td>\n      <td>31</td>\n      <td>0</td>\n      <td>1.86</td>\n    </tr>\n    <tr>\n      <th>72</th>\n      <td>72</td>\n      <td>5106841</td>\n      <td>Albany</td>\n      <td>US</td>\n      <td>42.6001</td>\n      <td>-73.9662</td>\n      <td>76.39</td>\n      <td>39</td>\n      <td>0</td>\n      <td>9.55</td>\n    </tr>\n    <tr>\n      <th>119</th>\n      <td>119</td>\n      <td>921906</td>\n      <td>Domoni</td>\n      <td>KM</td>\n      <td>-12.2569</td>\n      <td>44.5319</td>\n      <td>73.02</td>\n      <td>78</td>\n      <td>0</td>\n      <td>3.58</td>\n    </tr>\n    <tr>\n      <th>188</th>\n      <td>188</td>\n      <td>921786</td>\n      <td>Mitsamiouli</td>\n      <td>KM</td>\n      <td>-11.3847</td>\n      <td>43.2844</td>\n      <td>75.42</td>\n      <td>64</td>\n      <td>0</td>\n      <td>4.23</td>\n    </tr>\n    <tr>\n      <th>197</th>\n      <td>197</td>\n      <td>2517117</td>\n      <td>Granada</td>\n      <td>ES</td>\n      <td>37.1882</td>\n      <td>-3.6067</td>\n      <td>72.09</td>\n      <td>54</td>\n      <td>0</td>\n      <td>1.01</td>\n    </tr>\n    <tr>\n      <th>245</th>\n      <td>245</td>\n      <td>1529376</td>\n      <td>Korla</td>\n      <td>CN</td>\n      <td>41.7597</td>\n      <td>86.1469</td>\n      <td>75.78</td>\n      <td>24</td>\n      <td>0</td>\n      <td>1.41</td>\n    </tr>\n    <tr>\n      <th>289</th>\n      <td>289</td>\n      <td>139223</td>\n      <td>Chālūs</td>\n      <td>IR</td>\n      <td>36.6550</td>\n      <td>51.4204</td>\n      <td>72.86</td>\n      <td>83</td>\n      <td>0</td>\n      <td>0.00</td>\n    </tr>\n    <tr>\n      <th>327</th>\n      <td>327</td>\n      <td>1142226</td>\n      <td>Dawlatabad</td>\n      <td>AF</td>\n      <td>36.4141</td>\n      <td>64.9053</td>\n      <td>77.99</td>\n      <td>17</td>\n      <td>0</td>\n      <td>6.91</td>\n    </tr>\n    <tr>\n      <th>339</th>\n      <td>339</td>\n      <td>300058</td>\n      <td>Susurluk</td>\n      <td>TR</td>\n      <td>39.9136</td>\n      <td>28.1578</td>\n      <td>72.28</td>\n      <td>71</td>\n      <td>0</td>\n      <td>0.83</td>\n    </tr>\n    <tr>\n      <th>359</th>\n      <td>359</td>\n      <td>583345</td>\n      <td>Aleksandrov Gay</td>\n      <td>RU</td>\n      <td>50.1470</td>\n      <td>48.5704</td>\n      <td>78.91</td>\n      <td>50</td>\n      <td>0</td>\n      <td>8.61</td>\n    </tr>\n    <tr>\n      <th>440</th>\n      <td>440</td>\n      <td>293842</td>\n      <td>Kiryat Gat</td>\n      <td>IL</td>\n      <td>31.6100</td>\n      <td>34.7642</td>\n      <td>74.79</td>\n      <td>72</td>\n      <td>0</td>\n      <td>0.47</td>\n    </tr>\n    <tr>\n      <th>490</th>\n      <td>490</td>\n      <td>359796</td>\n      <td>Suez</td>\n      <td>EG</td>\n      <td>29.9737</td>\n      <td>32.5263</td>\n      <td>78.33</td>\n      <td>50</td>\n      <td>0</td>\n      <td>8.72</td>\n    </tr>\n  </tbody>\n</table>\n</div>"
     },
     "metadata": {},
     "execution_count": 9
    }
   ],
   "source": [
    "# Narrow down the DataFrame to find your ideal weather condition.\n",
    "filtered_weather_df = weather_df\n",
    "\n",
    "# A max temperature lower than 80 degrees but higher than 70.\n",
    "filtered_weather_df = filtered_weather_df.loc[(filtered_weather_df[\"Temperature\"] < 80) & (filtered_weather_df[\"Temperature\"] > 70)]\n",
    "\n",
    "# Wind speed less than 10 mph.\n",
    "filtered_weather_df = filtered_weather_df.loc[filtered_weather_df[\"Wind Speed\"] < 10]\n",
    "\n",
    "# Zero cloudiness.\n",
    "filtered_weather_df = filtered_weather_df.loc[filtered_weather_df[\"Clouds\"] == 0]\n",
    "\n",
    "# Drop any rows with null values\n",
    "filtered_weather_df = filtered_weather_df.dropna()\n",
    "filtered_weather_df"
   ]
  },
  {
   "source": [
    "## Hotel Map"
   ],
   "cell_type": "markdown",
   "metadata": {}
  },
  {
   "cell_type": "code",
   "execution_count": null,
   "metadata": {},
   "outputs": [],
   "source": [
    "# Store into variable named hotel_df.\n",
    "# Add a \"Hotel Name\" column to the DataFrame.\n",
    "# Set parameters to search for hotels with 5000 meters.\n",
    "# Hit the Google Places API for each city's coordinates.\n",
    "# Store the first Hotel result into the DataFrame.\n",
    "# Plot markers on top of the heatmap."
   ]
  },
  {
   "cell_type": "code",
   "execution_count": 11,
   "metadata": {},
   "outputs": [
    {
     "output_type": "stream",
     "name": "stdout",
     "text": [
      "Retrieving Results for Index 1: Gelibolu.\n",
      "Closest hotel is Oya Hotel.\n",
      "------------\n",
      "Retrieving Results for Index 31: Jaraguá.\n",
      "Closest hotel is Danbury Hotel.\n",
      "------------\n",
      "Retrieving Results for Index 72: Albany.\n",
      "Missing field/result... skipping.\n",
      "------------\n",
      "Retrieving Results for Index 119: Domoni.\n",
      "Closest hotel is Al Djadid.\n",
      "------------\n",
      "Retrieving Results for Index 188: Mitsamiouli.\n",
      "Closest hotel is Foyer ADM.\n",
      "------------\n",
      "Retrieving Results for Index 197: Granada.\n",
      "Closest hotel is HOTEL REINA CRISTINA.\n",
      "------------\n",
      "Retrieving Results for Index 245: Korla.\n",
      "Closest hotel is Gulisitan Hotel.\n",
      "------------\n",
      "Retrieving Results for Index 289: Chālūs.\n",
      "Closest hotel is نظام مهندسي ساختمان چالوس.\n",
      "------------\n",
      "Retrieving Results for Index 327: Dawlatabad.\n",
      "Closest hotel is WASIM ASGAR KHAN.\n",
      "------------\n",
      "Retrieving Results for Index 339: Susurluk.\n",
      "Closest hotel is Çağan Pansiyon.\n",
      "------------\n",
      "Retrieving Results for Index 359: Aleksandrov Gay.\n",
      "Closest hotel is Gostinitsa I.p. Yes'kov A.v.\n",
      "------------\n",
      "Retrieving Results for Index 440: Kiryat Gat.\n",
      "Closest hotel is OlusHome.\n",
      "------------\n",
      "Retrieving Results for Index 490: Suez.\n",
      "Closest hotel is Green House.\n",
      "------------\n"
     ]
    }
   ],
   "source": [
    "hotel_df = filtered_weather_df\n",
    "\n",
    "# params dictionary to update each iteration\n",
    "params = {\n",
    "    \"radius\": 5000,\n",
    "    \"types\": \"lodging\",\n",
    "    \"key\": g_key\n",
    "}\n",
    "\n",
    "for index, row in hotel_df.iterrows():\n",
    "    # get lat, lng from df\n",
    "    lat = row[\"Lat\"]\n",
    "    lng = row[\"Lng\"]\n",
    "\n",
    "    # change location each iteration while leaving original params in place\n",
    "    params[\"location\"] = f\"{lat},{lng}\"\n",
    "    \n",
    "    base_url = \"https://maps.googleapis.com/maps/api/place/nearbysearch/json\"\n",
    "\n",
    "    # assemble url and make API request\n",
    "    print(f\"Retrieving Results for Index {index}: {row['City']}.\")\n",
    "    response = requests.get(base_url, params=params).json()\n",
    "    # print(json.dumps(response, indent=4, sort_keys=True))\n",
    "    \n",
    "    # extract results\n",
    "    results = response['results']\n",
    "    \n",
    "    try:\n",
    "        print(f\"Closest hotel is {results[0]['name']}.\")\n",
    "        hotel_df.loc[index, 'Hotel Name'] = results[0]['name']\n",
    "        \n",
    "    except (KeyError, IndexError):\n",
    "        print(\"Missing field/result... skipping.\")\n",
    "        \n",
    "    print(\"------------\")"
   ]
  },
  {
   "cell_type": "code",
   "execution_count": 12,
   "metadata": {},
   "outputs": [],
   "source": [
    "# NOTE: Do not change any of the code in this cell\n",
    "\n",
    "# Using the template add the hotel marks to the heatmap\n",
    "info_box_template = \"\"\"\n",
    "<dl>\n",
    "<dt>Name</dt><dd>{Hotel Name}</dd>\n",
    "<dt>City</dt><dd>{City}</dd>\n",
    "<dt>Country</dt><dd>{Country}</dd>\n",
    "</dl>\n",
    "\"\"\"\n",
    "# Store the DataFrame Row\n",
    "# NOTE: be sure to update with your DataFrame name\n",
    "hotel_info = [info_box_template.format(**row) for index, row in hotel_df.iterrows()]\n",
    "locations = hotel_df[[\"Lat\", \"Lng\"]]"
   ]
  },
  {
   "cell_type": "code",
   "execution_count": 13,
   "metadata": {},
   "outputs": [
    {
     "output_type": "display_data",
     "data": {
      "text/plain": "Figure(layout=FigureLayout(height='420px'))",
      "application/vnd.jupyter.widget-view+json": {
       "version_major": 2,
       "version_minor": 0,
       "model_id": "b1b3c101252249dd8f4edaa461030224"
      }
     },
     "metadata": {}
    }
   ],
   "source": [
    "# Add marker layer ontop of heat map\n",
    "markers = gmaps.marker_layer(locations, info_box_content=hotel_info)\n",
    "\n",
    "# Create hotel symbol layer\n",
    "hotel_layer = gmaps.symbol_layer(\n",
    "    locations, fill_color='rgba(0, 150, 0, 0.4)',\n",
    "    stroke_color='rgba(0, 0, 150, 0.4)', scale=2,\n",
    "    info_box_content=hotel_info\n",
    ")\n",
    "\n",
    "# Add the layer to the map\n",
    "fig.add_layer(markers)\n",
    "fig.add_layer(hotel_layer)\n",
    "fig"
   ]
  },
  {
   "cell_type": "code",
   "execution_count": null,
   "metadata": {},
   "outputs": [],
   "source": []
  }
 ],
 "metadata": {
  "kernelspec": {
   "name": "python3",
   "display_name": "Python 3.6.10 64-bit ('PythonData': conda)"
  },
  "language_info": {
   "codemirror_mode": {
    "name": "ipython",
    "version": 3
   },
   "file_extension": ".py",
   "mimetype": "text/x-python",
   "name": "python",
   "nbconvert_exporter": "python",
   "pygments_lexer": "ipython3",
   "version": "3.6.10"
  },
  "latex_envs": {
   "LaTeX_envs_menu_present": true,
   "autoclose": false,
   "autocomplete": true,
   "bibliofile": "biblio.bib",
   "cite_by": "apalike",
   "current_citInitial": 1,
   "eqLabelWithNumbers": true,
   "eqNumInitial": 1,
   "hotkeys": {
    "equation": "Ctrl-E",
    "itemize": "Ctrl-I"
   },
   "labels_anchors": false,
   "latex_user_defs": false,
   "report_style_numbering": false,
   "user_envs_cfg": false
  },
  "interpreter": {
   "hash": "352eb0fdbc39df23c3941759226aac7a80e9e8fcb0968112f6f9929c3d7daf2e"
  }
 },
 "nbformat": 4,
 "nbformat_minor": 4
}