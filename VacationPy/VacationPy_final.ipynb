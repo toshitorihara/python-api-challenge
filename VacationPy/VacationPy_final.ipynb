{
 "cells": [
  {
   "source": [
    "# VacationPy"
   ],
   "cell_type": "markdown",
   "metadata": {}
  },
  {
   "cell_type": "code",
   "execution_count": 1,
   "metadata": {},
   "outputs": [],
   "source": [
    "# Dependencies and Setup\n",
    "import matplotlib.pyplot as plt\n",
    "import pandas as pd\n",
    "import numpy as np\n",
    "import requests\n",
    "import gmaps\n",
    "import os\n",
    "\n",
    "# Import API key\n",
    "from api_keys import g_key\n",
    "\n",
    "# https://developers.google.com/maps/reporting/gmp-reporting as reference for how to monitor your usage and billing."
   ]
  },
  {
   "source": [
    "## Store Part I results into DataFrame"
   ],
   "cell_type": "markdown",
   "metadata": {}
  },
  {
   "cell_type": "code",
   "execution_count": 2,
   "metadata": {},
   "outputs": [
    {
     "output_type": "execute_result",
     "data": {
      "text/plain": [
       "     City ID           City Country      Lat       Lng  Temperature  Humidity  \\\n",
       "0     964432    Port Alfred      ZA -33.5906   26.8910        60.10        75   \n",
       "1    1326105          Falam      MM  22.9167   93.6833        75.16        76   \n",
       "2    5563839        Fortuna      US  40.5982 -124.1573        55.67        73   \n",
       "3     336350           Goba      ET   7.0167   39.9833        62.67        53   \n",
       "4    3430863  Mar del Plata      AR -38.0023  -57.5575        54.07        65   \n",
       "..       ...            ...     ...      ...       ...          ...       ...   \n",
       "568  3393692        Itarema      BR  -2.9248  -39.9167        73.53        85   \n",
       "569  3517970       Pochutla      MX  15.7432  -96.4661        74.82        86   \n",
       "570   641489       Pirkkala      FI  61.4613   23.6323        61.61        86   \n",
       "571  2057087         Kupang      ID -10.1667  123.5833        88.38        55   \n",
       "572  1241622          Kandy      LK   7.2955   80.6356        83.57        56   \n",
       "\n",
       "     Clouds  Wind Speed  \n",
       "0        98        6.87  \n",
       "1        91        1.14  \n",
       "2        90        1.01  \n",
       "3        29        4.97  \n",
       "4        90        3.00  \n",
       "..      ...         ...  \n",
       "568       8        9.64  \n",
       "569     100        5.06  \n",
       "570      90        5.01  \n",
       "571      40       12.66  \n",
       "572      72        9.22  \n",
       "\n",
       "[573 rows x 9 columns]"
      ],
      "text/html": "<div>\n<style scoped>\n    .dataframe tbody tr th:only-of-type {\n        vertical-align: middle;\n    }\n\n    .dataframe tbody tr th {\n        vertical-align: top;\n    }\n\n    .dataframe thead th {\n        text-align: right;\n    }\n</style>\n<table border=\"1\" class=\"dataframe\">\n  <thead>\n    <tr style=\"text-align: right;\">\n      <th></th>\n      <th>City ID</th>\n      <th>City</th>\n      <th>Country</th>\n      <th>Lat</th>\n      <th>Lng</th>\n      <th>Temperature</th>\n      <th>Humidity</th>\n      <th>Clouds</th>\n      <th>Wind Speed</th>\n    </tr>\n  </thead>\n  <tbody>\n    <tr>\n      <th>0</th>\n      <td>964432</td>\n      <td>Port Alfred</td>\n      <td>ZA</td>\n      <td>-33.5906</td>\n      <td>26.8910</td>\n      <td>60.10</td>\n      <td>75</td>\n      <td>98</td>\n      <td>6.87</td>\n    </tr>\n    <tr>\n      <th>1</th>\n      <td>1326105</td>\n      <td>Falam</td>\n      <td>MM</td>\n      <td>22.9167</td>\n      <td>93.6833</td>\n      <td>75.16</td>\n      <td>76</td>\n      <td>91</td>\n      <td>1.14</td>\n    </tr>\n    <tr>\n      <th>2</th>\n      <td>5563839</td>\n      <td>Fortuna</td>\n      <td>US</td>\n      <td>40.5982</td>\n      <td>-124.1573</td>\n      <td>55.67</td>\n      <td>73</td>\n      <td>90</td>\n      <td>1.01</td>\n    </tr>\n    <tr>\n      <th>3</th>\n      <td>336350</td>\n      <td>Goba</td>\n      <td>ET</td>\n      <td>7.0167</td>\n      <td>39.9833</td>\n      <td>62.67</td>\n      <td>53</td>\n      <td>29</td>\n      <td>4.97</td>\n    </tr>\n    <tr>\n      <th>4</th>\n      <td>3430863</td>\n      <td>Mar del Plata</td>\n      <td>AR</td>\n      <td>-38.0023</td>\n      <td>-57.5575</td>\n      <td>54.07</td>\n      <td>65</td>\n      <td>90</td>\n      <td>3.00</td>\n    </tr>\n    <tr>\n      <th>...</th>\n      <td>...</td>\n      <td>...</td>\n      <td>...</td>\n      <td>...</td>\n      <td>...</td>\n      <td>...</td>\n      <td>...</td>\n      <td>...</td>\n      <td>...</td>\n    </tr>\n    <tr>\n      <th>568</th>\n      <td>3393692</td>\n      <td>Itarema</td>\n      <td>BR</td>\n      <td>-2.9248</td>\n      <td>-39.9167</td>\n      <td>73.53</td>\n      <td>85</td>\n      <td>8</td>\n      <td>9.64</td>\n    </tr>\n    <tr>\n      <th>569</th>\n      <td>3517970</td>\n      <td>Pochutla</td>\n      <td>MX</td>\n      <td>15.7432</td>\n      <td>-96.4661</td>\n      <td>74.82</td>\n      <td>86</td>\n      <td>100</td>\n      <td>5.06</td>\n    </tr>\n    <tr>\n      <th>570</th>\n      <td>641489</td>\n      <td>Pirkkala</td>\n      <td>FI</td>\n      <td>61.4613</td>\n      <td>23.6323</td>\n      <td>61.61</td>\n      <td>86</td>\n      <td>90</td>\n      <td>5.01</td>\n    </tr>\n    <tr>\n      <th>571</th>\n      <td>2057087</td>\n      <td>Kupang</td>\n      <td>ID</td>\n      <td>-10.1667</td>\n      <td>123.5833</td>\n      <td>88.38</td>\n      <td>55</td>\n      <td>40</td>\n      <td>12.66</td>\n    </tr>\n    <tr>\n      <th>572</th>\n      <td>1241622</td>\n      <td>Kandy</td>\n      <td>LK</td>\n      <td>7.2955</td>\n      <td>80.6356</td>\n      <td>83.57</td>\n      <td>56</td>\n      <td>72</td>\n      <td>9.22</td>\n    </tr>\n  </tbody>\n</table>\n<p>573 rows × 9 columns</p>\n</div>"
     },
     "metadata": {},
     "execution_count": 2
    }
   ],
   "source": [
    "# Load the csv exported in Part I to a DataFrame\n",
    "csv_file = os.path.join('..', 'WeatherPy', 'Output', 'city_weather.csv')\n",
    "city_df = pd.read_csv(csv_file)\n",
    "city_df"
   ]
  },
  {
   "source": [
    "## Humidity Heatmap"
   ],
   "cell_type": "markdown",
   "metadata": {}
  },
  {
   "cell_type": "code",
   "execution_count": 3,
   "metadata": {},
   "outputs": [
    {
     "output_type": "display_data",
     "data": {
      "text/plain": "Figure(layout=FigureLayout(height='420px'))",
      "application/vnd.jupyter.widget-view+json": {
       "version_major": 2,
       "version_minor": 0,
       "model_id": "04646c3d8ff0476e9e05a35aca6f93c9"
      }
     },
     "metadata": {}
    }
   ],
   "source": [
    "# Configure gmaps\n",
    "gmaps.configure(api_key=g_key)\n",
    "\n",
    "# Use the Lat and Lng as locations and Humidity as the weight\n",
    "locations = city_df[[\"Lat\", \"Lng\"]]\n",
    "humidity = city_df[\"Humidity\"]\n",
    "\n",
    "# Add Heatmap layer to map\n",
    "fig = gmaps.figure()\n",
    "heat_layer = gmaps.heatmap_layer(locations, weights=humidity, dissipating=False)\n",
    "heat_layer.max_intensity = 100\n",
    "heat_layer.point_radius = 5\n",
    "\n",
    "fig.add_layer(heat_layer)\n",
    "fig"
   ]
  },
  {
   "cell_type": "markdown",
   "metadata": {},
   "source": [
    "## Create new DataFrame fitting weather criteria"
   ]
  },
  {
   "cell_type": "code",
   "execution_count": 4,
   "metadata": {},
   "outputs": [
    {
     "output_type": "execute_result",
     "data": {
      "text/plain": [
       "     City ID             City Country      Lat       Lng  Temperature  \\\n",
       "24   1513491  Yangi Marg`ilon      UZ  40.4272   71.7189        86.72   \n",
       "59   1529660             Aksu      CN  41.1231   80.2644        85.69   \n",
       "74    510347        Pestravka      RU  52.4050   49.9583        85.23   \n",
       "88   2036283         Kuandian      CN  40.7286  124.7847        76.73   \n",
       "103  1280037           Shache      CN  38.4167   77.2406        89.51   \n",
       "123   304797           Mardin      TR  37.3131   40.7436        78.06   \n",
       "130   233019      Kaberamaido      UG   1.7389   33.1594        75.88   \n",
       "177  4669635          Abilene      US  32.4487  -99.7331        81.66   \n",
       "232  1253628            Ginda      IN  30.6945   78.4932        83.17   \n",
       "245   542464    Krasnoarmeysk      RU  51.0239   45.6969        82.54   \n",
       "246   609924             Emba      KZ  48.8264   58.1442        86.74   \n",
       "248   515805    Oktyabr'skoye      RU  43.0645   44.7417        78.94   \n",
       "256   350550             Qena      EG  26.1615   32.7183        87.91   \n",
       "342  1181065          Chitral      PK  35.8462   71.7858        83.89   \n",
       "412  1268802           Jubbal      IN  31.1167   77.6667        78.04   \n",
       "426   508362       Podgornoye      RU  51.7350   39.1496        84.42   \n",
       "430  2440485           Niamey      NE  13.5137    2.1098        82.69   \n",
       "470  1268814        Joshīmath      IN  30.5667   79.5667        79.83   \n",
       "476   135298       EsfarāEyen      IR  37.0765   57.5101        80.26   \n",
       "479  5295985         Glendale      US  33.5387 -112.1860        82.08   \n",
       "488  2025099          Dauriya      RU  49.9333  116.8667        83.91   \n",
       "498   167357           Manbij      SY  36.5281   37.9549        86.00   \n",
       "500   581080          Arkadak      RU  51.9326   43.4978        84.97   \n",
       "526   579432         Balezino      RU  57.9796   53.0106        80.89   \n",
       "551   314188           Göksun      TR  38.0210   36.4973        78.80   \n",
       "\n",
       "     Humidity  Clouds  Wind Speed  \n",
       "24         16       0        6.91  \n",
       "59         19       0        4.29  \n",
       "74         54       0        5.46  \n",
       "88         57       3        4.65  \n",
       "103         9       0        5.28  \n",
       "123        39       0        4.61  \n",
       "130        63       0        1.86  \n",
       "177        63       1        1.99  \n",
       "232        32       3        6.82  \n",
       "245        57       3        8.16  \n",
       "246        37       0        9.17  \n",
       "248        61       0        4.47  \n",
       "256        21       0        8.93  \n",
       "342        13       0        4.92  \n",
       "412        28       8        7.14  \n",
       "426        45       0        2.24  \n",
       "430        65       0        6.91  \n",
       "470        42       4        8.03  \n",
       "476        10       0        2.42  \n",
       "479        52       1        1.99  \n",
       "488        27       4        8.12  \n",
       "498        39       0        9.98  \n",
       "500        55       1        7.38  \n",
       "526        59       7        5.41  \n",
       "551        61       0        3.44  "
      ],
      "text/html": "<div>\n<style scoped>\n    .dataframe tbody tr th:only-of-type {\n        vertical-align: middle;\n    }\n\n    .dataframe tbody tr th {\n        vertical-align: top;\n    }\n\n    .dataframe thead th {\n        text-align: right;\n    }\n</style>\n<table border=\"1\" class=\"dataframe\">\n  <thead>\n    <tr style=\"text-align: right;\">\n      <th></th>\n      <th>City ID</th>\n      <th>City</th>\n      <th>Country</th>\n      <th>Lat</th>\n      <th>Lng</th>\n      <th>Temperature</th>\n      <th>Humidity</th>\n      <th>Clouds</th>\n      <th>Wind Speed</th>\n    </tr>\n  </thead>\n  <tbody>\n    <tr>\n      <th>24</th>\n      <td>1513491</td>\n      <td>Yangi Marg`ilon</td>\n      <td>UZ</td>\n      <td>40.4272</td>\n      <td>71.7189</td>\n      <td>86.72</td>\n      <td>16</td>\n      <td>0</td>\n      <td>6.91</td>\n    </tr>\n    <tr>\n      <th>59</th>\n      <td>1529660</td>\n      <td>Aksu</td>\n      <td>CN</td>\n      <td>41.1231</td>\n      <td>80.2644</td>\n      <td>85.69</td>\n      <td>19</td>\n      <td>0</td>\n      <td>4.29</td>\n    </tr>\n    <tr>\n      <th>74</th>\n      <td>510347</td>\n      <td>Pestravka</td>\n      <td>RU</td>\n      <td>52.4050</td>\n      <td>49.9583</td>\n      <td>85.23</td>\n      <td>54</td>\n      <td>0</td>\n      <td>5.46</td>\n    </tr>\n    <tr>\n      <th>88</th>\n      <td>2036283</td>\n      <td>Kuandian</td>\n      <td>CN</td>\n      <td>40.7286</td>\n      <td>124.7847</td>\n      <td>76.73</td>\n      <td>57</td>\n      <td>3</td>\n      <td>4.65</td>\n    </tr>\n    <tr>\n      <th>103</th>\n      <td>1280037</td>\n      <td>Shache</td>\n      <td>CN</td>\n      <td>38.4167</td>\n      <td>77.2406</td>\n      <td>89.51</td>\n      <td>9</td>\n      <td>0</td>\n      <td>5.28</td>\n    </tr>\n    <tr>\n      <th>123</th>\n      <td>304797</td>\n      <td>Mardin</td>\n      <td>TR</td>\n      <td>37.3131</td>\n      <td>40.7436</td>\n      <td>78.06</td>\n      <td>39</td>\n      <td>0</td>\n      <td>4.61</td>\n    </tr>\n    <tr>\n      <th>130</th>\n      <td>233019</td>\n      <td>Kaberamaido</td>\n      <td>UG</td>\n      <td>1.7389</td>\n      <td>33.1594</td>\n      <td>75.88</td>\n      <td>63</td>\n      <td>0</td>\n      <td>1.86</td>\n    </tr>\n    <tr>\n      <th>177</th>\n      <td>4669635</td>\n      <td>Abilene</td>\n      <td>US</td>\n      <td>32.4487</td>\n      <td>-99.7331</td>\n      <td>81.66</td>\n      <td>63</td>\n      <td>1</td>\n      <td>1.99</td>\n    </tr>\n    <tr>\n      <th>232</th>\n      <td>1253628</td>\n      <td>Ginda</td>\n      <td>IN</td>\n      <td>30.6945</td>\n      <td>78.4932</td>\n      <td>83.17</td>\n      <td>32</td>\n      <td>3</td>\n      <td>6.82</td>\n    </tr>\n    <tr>\n      <th>245</th>\n      <td>542464</td>\n      <td>Krasnoarmeysk</td>\n      <td>RU</td>\n      <td>51.0239</td>\n      <td>45.6969</td>\n      <td>82.54</td>\n      <td>57</td>\n      <td>3</td>\n      <td>8.16</td>\n    </tr>\n    <tr>\n      <th>246</th>\n      <td>609924</td>\n      <td>Emba</td>\n      <td>KZ</td>\n      <td>48.8264</td>\n      <td>58.1442</td>\n      <td>86.74</td>\n      <td>37</td>\n      <td>0</td>\n      <td>9.17</td>\n    </tr>\n    <tr>\n      <th>248</th>\n      <td>515805</td>\n      <td>Oktyabr'skoye</td>\n      <td>RU</td>\n      <td>43.0645</td>\n      <td>44.7417</td>\n      <td>78.94</td>\n      <td>61</td>\n      <td>0</td>\n      <td>4.47</td>\n    </tr>\n    <tr>\n      <th>256</th>\n      <td>350550</td>\n      <td>Qena</td>\n      <td>EG</td>\n      <td>26.1615</td>\n      <td>32.7183</td>\n      <td>87.91</td>\n      <td>21</td>\n      <td>0</td>\n      <td>8.93</td>\n    </tr>\n    <tr>\n      <th>342</th>\n      <td>1181065</td>\n      <td>Chitral</td>\n      <td>PK</td>\n      <td>35.8462</td>\n      <td>71.7858</td>\n      <td>83.89</td>\n      <td>13</td>\n      <td>0</td>\n      <td>4.92</td>\n    </tr>\n    <tr>\n      <th>412</th>\n      <td>1268802</td>\n      <td>Jubbal</td>\n      <td>IN</td>\n      <td>31.1167</td>\n      <td>77.6667</td>\n      <td>78.04</td>\n      <td>28</td>\n      <td>8</td>\n      <td>7.14</td>\n    </tr>\n    <tr>\n      <th>426</th>\n      <td>508362</td>\n      <td>Podgornoye</td>\n      <td>RU</td>\n      <td>51.7350</td>\n      <td>39.1496</td>\n      <td>84.42</td>\n      <td>45</td>\n      <td>0</td>\n      <td>2.24</td>\n    </tr>\n    <tr>\n      <th>430</th>\n      <td>2440485</td>\n      <td>Niamey</td>\n      <td>NE</td>\n      <td>13.5137</td>\n      <td>2.1098</td>\n      <td>82.69</td>\n      <td>65</td>\n      <td>0</td>\n      <td>6.91</td>\n    </tr>\n    <tr>\n      <th>470</th>\n      <td>1268814</td>\n      <td>Joshīmath</td>\n      <td>IN</td>\n      <td>30.5667</td>\n      <td>79.5667</td>\n      <td>79.83</td>\n      <td>42</td>\n      <td>4</td>\n      <td>8.03</td>\n    </tr>\n    <tr>\n      <th>476</th>\n      <td>135298</td>\n      <td>EsfarāEyen</td>\n      <td>IR</td>\n      <td>37.0765</td>\n      <td>57.5101</td>\n      <td>80.26</td>\n      <td>10</td>\n      <td>0</td>\n      <td>2.42</td>\n    </tr>\n    <tr>\n      <th>479</th>\n      <td>5295985</td>\n      <td>Glendale</td>\n      <td>US</td>\n      <td>33.5387</td>\n      <td>-112.1860</td>\n      <td>82.08</td>\n      <td>52</td>\n      <td>1</td>\n      <td>1.99</td>\n    </tr>\n    <tr>\n      <th>488</th>\n      <td>2025099</td>\n      <td>Dauriya</td>\n      <td>RU</td>\n      <td>49.9333</td>\n      <td>116.8667</td>\n      <td>83.91</td>\n      <td>27</td>\n      <td>4</td>\n      <td>8.12</td>\n    </tr>\n    <tr>\n      <th>498</th>\n      <td>167357</td>\n      <td>Manbij</td>\n      <td>SY</td>\n      <td>36.5281</td>\n      <td>37.9549</td>\n      <td>86.00</td>\n      <td>39</td>\n      <td>0</td>\n      <td>9.98</td>\n    </tr>\n    <tr>\n      <th>500</th>\n      <td>581080</td>\n      <td>Arkadak</td>\n      <td>RU</td>\n      <td>51.9326</td>\n      <td>43.4978</td>\n      <td>84.97</td>\n      <td>55</td>\n      <td>1</td>\n      <td>7.38</td>\n    </tr>\n    <tr>\n      <th>526</th>\n      <td>579432</td>\n      <td>Balezino</td>\n      <td>RU</td>\n      <td>57.9796</td>\n      <td>53.0106</td>\n      <td>80.89</td>\n      <td>59</td>\n      <td>7</td>\n      <td>5.41</td>\n    </tr>\n    <tr>\n      <th>551</th>\n      <td>314188</td>\n      <td>Göksun</td>\n      <td>TR</td>\n      <td>38.0210</td>\n      <td>36.4973</td>\n      <td>78.80</td>\n      <td>61</td>\n      <td>0</td>\n      <td>3.44</td>\n    </tr>\n  </tbody>\n</table>\n</div>"
     },
     "metadata": {},
     "execution_count": 4
    }
   ],
   "source": [
    "# Narrow down the cities to fit weather conditions.\n",
    "# Drop any rows will null values.\n",
    "ideal_df = city_df[(city_df['Temperature'] >= 75) & (city_df['Temperature'] <= 90)]\n",
    "ideal_df = ideal_df[ideal_df['Wind Speed'] <= 10]\n",
    "ideal_df = ideal_df[ideal_df['Clouds'] <= 10]\n",
    "ideal_df = ideal_df[ideal_df['Humidity'] <= 70]\n",
    "hotel_df = ideal_df\n",
    "hotel_df"
   ]
  },
  {
   "source": [
    "## Hotel Map"
   ],
   "cell_type": "markdown",
   "metadata": {}
  },
  {
   "cell_type": "code",
   "execution_count": 5,
   "metadata": {},
   "outputs": [
    {
     "output_type": "execute_result",
     "data": {
      "text/plain": [
       "     City ID             City Country      Lat       Lng  Temperature  \\\n",
       "24   1513491  Yangi Marg`ilon      UZ  40.4272   71.7189        86.72   \n",
       "59   1529660             Aksu      CN  41.1231   80.2644        85.69   \n",
       "74    510347        Pestravka      RU  52.4050   49.9583        85.23   \n",
       "88   2036283         Kuandian      CN  40.7286  124.7847        76.73   \n",
       "103  1280037           Shache      CN  38.4167   77.2406        89.51   \n",
       "123   304797           Mardin      TR  37.3131   40.7436        78.06   \n",
       "130   233019      Kaberamaido      UG   1.7389   33.1594        75.88   \n",
       "177  4669635          Abilene      US  32.4487  -99.7331        81.66   \n",
       "232  1253628            Ginda      IN  30.6945   78.4932        83.17   \n",
       "245   542464    Krasnoarmeysk      RU  51.0239   45.6969        82.54   \n",
       "246   609924             Emba      KZ  48.8264   58.1442        86.74   \n",
       "248   515805    Oktyabr'skoye      RU  43.0645   44.7417        78.94   \n",
       "256   350550             Qena      EG  26.1615   32.7183        87.91   \n",
       "342  1181065          Chitral      PK  35.8462   71.7858        83.89   \n",
       "412  1268802           Jubbal      IN  31.1167   77.6667        78.04   \n",
       "426   508362       Podgornoye      RU  51.7350   39.1496        84.42   \n",
       "430  2440485           Niamey      NE  13.5137    2.1098        82.69   \n",
       "470  1268814        Joshīmath      IN  30.5667   79.5667        79.83   \n",
       "476   135298       EsfarāEyen      IR  37.0765   57.5101        80.26   \n",
       "479  5295985         Glendale      US  33.5387 -112.1860        82.08   \n",
       "488  2025099          Dauriya      RU  49.9333  116.8667        83.91   \n",
       "498   167357           Manbij      SY  36.5281   37.9549        86.00   \n",
       "500   581080          Arkadak      RU  51.9326   43.4978        84.97   \n",
       "526   579432         Balezino      RU  57.9796   53.0106        80.89   \n",
       "551   314188           Göksun      TR  38.0210   36.4973        78.80   \n",
       "\n",
       "     Humidity  Clouds  Wind Speed Hotel Name  \n",
       "24         16       0        6.91             \n",
       "59         19       0        4.29             \n",
       "74         54       0        5.46             \n",
       "88         57       3        4.65             \n",
       "103         9       0        5.28             \n",
       "123        39       0        4.61             \n",
       "130        63       0        1.86             \n",
       "177        63       1        1.99             \n",
       "232        32       3        6.82             \n",
       "245        57       3        8.16             \n",
       "246        37       0        9.17             \n",
       "248        61       0        4.47             \n",
       "256        21       0        8.93             \n",
       "342        13       0        4.92             \n",
       "412        28       8        7.14             \n",
       "426        45       0        2.24             \n",
       "430        65       0        6.91             \n",
       "470        42       4        8.03             \n",
       "476        10       0        2.42             \n",
       "479        52       1        1.99             \n",
       "488        27       4        8.12             \n",
       "498        39       0        9.98             \n",
       "500        55       1        7.38             \n",
       "526        59       7        5.41             \n",
       "551        61       0        3.44             "
      ],
      "text/html": "<div>\n<style scoped>\n    .dataframe tbody tr th:only-of-type {\n        vertical-align: middle;\n    }\n\n    .dataframe tbody tr th {\n        vertical-align: top;\n    }\n\n    .dataframe thead th {\n        text-align: right;\n    }\n</style>\n<table border=\"1\" class=\"dataframe\">\n  <thead>\n    <tr style=\"text-align: right;\">\n      <th></th>\n      <th>City ID</th>\n      <th>City</th>\n      <th>Country</th>\n      <th>Lat</th>\n      <th>Lng</th>\n      <th>Temperature</th>\n      <th>Humidity</th>\n      <th>Clouds</th>\n      <th>Wind Speed</th>\n      <th>Hotel Name</th>\n    </tr>\n  </thead>\n  <tbody>\n    <tr>\n      <th>24</th>\n      <td>1513491</td>\n      <td>Yangi Marg`ilon</td>\n      <td>UZ</td>\n      <td>40.4272</td>\n      <td>71.7189</td>\n      <td>86.72</td>\n      <td>16</td>\n      <td>0</td>\n      <td>6.91</td>\n      <td></td>\n    </tr>\n    <tr>\n      <th>59</th>\n      <td>1529660</td>\n      <td>Aksu</td>\n      <td>CN</td>\n      <td>41.1231</td>\n      <td>80.2644</td>\n      <td>85.69</td>\n      <td>19</td>\n      <td>0</td>\n      <td>4.29</td>\n      <td></td>\n    </tr>\n    <tr>\n      <th>74</th>\n      <td>510347</td>\n      <td>Pestravka</td>\n      <td>RU</td>\n      <td>52.4050</td>\n      <td>49.9583</td>\n      <td>85.23</td>\n      <td>54</td>\n      <td>0</td>\n      <td>5.46</td>\n      <td></td>\n    </tr>\n    <tr>\n      <th>88</th>\n      <td>2036283</td>\n      <td>Kuandian</td>\n      <td>CN</td>\n      <td>40.7286</td>\n      <td>124.7847</td>\n      <td>76.73</td>\n      <td>57</td>\n      <td>3</td>\n      <td>4.65</td>\n      <td></td>\n    </tr>\n    <tr>\n      <th>103</th>\n      <td>1280037</td>\n      <td>Shache</td>\n      <td>CN</td>\n      <td>38.4167</td>\n      <td>77.2406</td>\n      <td>89.51</td>\n      <td>9</td>\n      <td>0</td>\n      <td>5.28</td>\n      <td></td>\n    </tr>\n    <tr>\n      <th>123</th>\n      <td>304797</td>\n      <td>Mardin</td>\n      <td>TR</td>\n      <td>37.3131</td>\n      <td>40.7436</td>\n      <td>78.06</td>\n      <td>39</td>\n      <td>0</td>\n      <td>4.61</td>\n      <td></td>\n    </tr>\n    <tr>\n      <th>130</th>\n      <td>233019</td>\n      <td>Kaberamaido</td>\n      <td>UG</td>\n      <td>1.7389</td>\n      <td>33.1594</td>\n      <td>75.88</td>\n      <td>63</td>\n      <td>0</td>\n      <td>1.86</td>\n      <td></td>\n    </tr>\n    <tr>\n      <th>177</th>\n      <td>4669635</td>\n      <td>Abilene</td>\n      <td>US</td>\n      <td>32.4487</td>\n      <td>-99.7331</td>\n      <td>81.66</td>\n      <td>63</td>\n      <td>1</td>\n      <td>1.99</td>\n      <td></td>\n    </tr>\n    <tr>\n      <th>232</th>\n      <td>1253628</td>\n      <td>Ginda</td>\n      <td>IN</td>\n      <td>30.6945</td>\n      <td>78.4932</td>\n      <td>83.17</td>\n      <td>32</td>\n      <td>3</td>\n      <td>6.82</td>\n      <td></td>\n    </tr>\n    <tr>\n      <th>245</th>\n      <td>542464</td>\n      <td>Krasnoarmeysk</td>\n      <td>RU</td>\n      <td>51.0239</td>\n      <td>45.6969</td>\n      <td>82.54</td>\n      <td>57</td>\n      <td>3</td>\n      <td>8.16</td>\n      <td></td>\n    </tr>\n    <tr>\n      <th>246</th>\n      <td>609924</td>\n      <td>Emba</td>\n      <td>KZ</td>\n      <td>48.8264</td>\n      <td>58.1442</td>\n      <td>86.74</td>\n      <td>37</td>\n      <td>0</td>\n      <td>9.17</td>\n      <td></td>\n    </tr>\n    <tr>\n      <th>248</th>\n      <td>515805</td>\n      <td>Oktyabr'skoye</td>\n      <td>RU</td>\n      <td>43.0645</td>\n      <td>44.7417</td>\n      <td>78.94</td>\n      <td>61</td>\n      <td>0</td>\n      <td>4.47</td>\n      <td></td>\n    </tr>\n    <tr>\n      <th>256</th>\n      <td>350550</td>\n      <td>Qena</td>\n      <td>EG</td>\n      <td>26.1615</td>\n      <td>32.7183</td>\n      <td>87.91</td>\n      <td>21</td>\n      <td>0</td>\n      <td>8.93</td>\n      <td></td>\n    </tr>\n    <tr>\n      <th>342</th>\n      <td>1181065</td>\n      <td>Chitral</td>\n      <td>PK</td>\n      <td>35.8462</td>\n      <td>71.7858</td>\n      <td>83.89</td>\n      <td>13</td>\n      <td>0</td>\n      <td>4.92</td>\n      <td></td>\n    </tr>\n    <tr>\n      <th>412</th>\n      <td>1268802</td>\n      <td>Jubbal</td>\n      <td>IN</td>\n      <td>31.1167</td>\n      <td>77.6667</td>\n      <td>78.04</td>\n      <td>28</td>\n      <td>8</td>\n      <td>7.14</td>\n      <td></td>\n    </tr>\n    <tr>\n      <th>426</th>\n      <td>508362</td>\n      <td>Podgornoye</td>\n      <td>RU</td>\n      <td>51.7350</td>\n      <td>39.1496</td>\n      <td>84.42</td>\n      <td>45</td>\n      <td>0</td>\n      <td>2.24</td>\n      <td></td>\n    </tr>\n    <tr>\n      <th>430</th>\n      <td>2440485</td>\n      <td>Niamey</td>\n      <td>NE</td>\n      <td>13.5137</td>\n      <td>2.1098</td>\n      <td>82.69</td>\n      <td>65</td>\n      <td>0</td>\n      <td>6.91</td>\n      <td></td>\n    </tr>\n    <tr>\n      <th>470</th>\n      <td>1268814</td>\n      <td>Joshīmath</td>\n      <td>IN</td>\n      <td>30.5667</td>\n      <td>79.5667</td>\n      <td>79.83</td>\n      <td>42</td>\n      <td>4</td>\n      <td>8.03</td>\n      <td></td>\n    </tr>\n    <tr>\n      <th>476</th>\n      <td>135298</td>\n      <td>EsfarāEyen</td>\n      <td>IR</td>\n      <td>37.0765</td>\n      <td>57.5101</td>\n      <td>80.26</td>\n      <td>10</td>\n      <td>0</td>\n      <td>2.42</td>\n      <td></td>\n    </tr>\n    <tr>\n      <th>479</th>\n      <td>5295985</td>\n      <td>Glendale</td>\n      <td>US</td>\n      <td>33.5387</td>\n      <td>-112.1860</td>\n      <td>82.08</td>\n      <td>52</td>\n      <td>1</td>\n      <td>1.99</td>\n      <td></td>\n    </tr>\n    <tr>\n      <th>488</th>\n      <td>2025099</td>\n      <td>Dauriya</td>\n      <td>RU</td>\n      <td>49.9333</td>\n      <td>116.8667</td>\n      <td>83.91</td>\n      <td>27</td>\n      <td>4</td>\n      <td>8.12</td>\n      <td></td>\n    </tr>\n    <tr>\n      <th>498</th>\n      <td>167357</td>\n      <td>Manbij</td>\n      <td>SY</td>\n      <td>36.5281</td>\n      <td>37.9549</td>\n      <td>86.00</td>\n      <td>39</td>\n      <td>0</td>\n      <td>9.98</td>\n      <td></td>\n    </tr>\n    <tr>\n      <th>500</th>\n      <td>581080</td>\n      <td>Arkadak</td>\n      <td>RU</td>\n      <td>51.9326</td>\n      <td>43.4978</td>\n      <td>84.97</td>\n      <td>55</td>\n      <td>1</td>\n      <td>7.38</td>\n      <td></td>\n    </tr>\n    <tr>\n      <th>526</th>\n      <td>579432</td>\n      <td>Balezino</td>\n      <td>RU</td>\n      <td>57.9796</td>\n      <td>53.0106</td>\n      <td>80.89</td>\n      <td>59</td>\n      <td>7</td>\n      <td>5.41</td>\n      <td></td>\n    </tr>\n    <tr>\n      <th>551</th>\n      <td>314188</td>\n      <td>Göksun</td>\n      <td>TR</td>\n      <td>38.0210</td>\n      <td>36.4973</td>\n      <td>78.80</td>\n      <td>61</td>\n      <td>0</td>\n      <td>3.44</td>\n      <td></td>\n    </tr>\n  </tbody>\n</table>\n</div>"
     },
     "metadata": {},
     "execution_count": 5
    }
   ],
   "source": [
    "# Store into variable named hotel_df.\n",
    "# Add a \"Hotel Name\" column to the DataFrame.\n",
    "hotel_df['Hotel Name'] = \"\"\n",
    "hotel_df"
   ]
  },
  {
   "cell_type": "code",
   "execution_count": null,
   "metadata": {},
   "outputs": [],
   "source": [
    "# Set parameters to search for hotels with 5000 meters.\n",
    "# Hit the Google Places API for each city's coordinates.\n",
    "# Store the first Hotel result into the DataFrame.\n",
    "# Plot markers on top of the heatmap.\n",
    "for index, row in hotel_df.iterrows():\n",
    "    try:\n",
    "        base_url = \"https://maps.googleapis.com/maps/api/place/nearbysearch/json\"\n",
    "        params = {\"keyword\": \"hotel\", \"radius\": 5000, \"key\": g_key}\n",
    "\n",
    "        lat = row['Lat']\n",
    "        lng = row['Lng']\n",
    "\n",
    "        params['location'] = f\"{lat}, {lng}\"\n",
    "        hotel_data = requests.get(base_url, params=params).json()\n",
    "        hotel_df.loc[index, \"Hotel Name\"] = hotel_data[\"results\"][0][\"name\"]\n",
    "        \n",
    "    except IndexError:                \n",
    "        hotel_df.loc[index, \"Hotel Name\"] = \"NaN\"\n",
    "\n",
    "hotel_df"
   ]
  },
  {
   "cell_type": "code",
   "execution_count": null,
   "metadata": {},
   "outputs": [],
   "source": [
    "# NOTE: Do not change any of the code in this cell\n",
    "\n",
    "# Using the template add the hotel marks to the heatmap\n",
    "info_box_template = \"\"\"\n",
    "<dl>\n",
    "<dt>Name</dt><dd>{Hotel Name}</dd>\n",
    "<dt>City</dt><dd>{City}</dd>\n",
    "<dt>Country</dt><dd>{Country}</dd>\n",
    "</dl>\n",
    "\"\"\"\n",
    "# Store the DataFrame Row\n",
    "# NOTE: be sure to update with your DataFrame name\n",
    "hotel_info = [info_box_template.format(**row) for index, row in hotel_df.iterrows()]\n",
    "locations = hotel_df[[\"Lat\", \"Lng\"]]"
   ]
  },
  {
   "cell_type": "code",
   "execution_count": null,
   "metadata": {},
   "outputs": [],
   "source": [
    "# Add marker layer ontop of heat map\n",
    "markers = gmaps.marker_layer(locations, info_box_content=hotel_info)\n",
    "fig.add_layer(markers)\n",
    "# Display figure\n",
    "fig"
   ]
  }
 ],
 "metadata": {
  "kernelspec": {
   "name": "python3",
   "display_name": "Python 3.6.10 64-bit ('PythonData': conda)"
  },
  "language_info": {
   "codemirror_mode": {
    "name": "ipython",
    "version": 3
   },
   "file_extension": ".py",
   "mimetype": "text/x-python",
   "name": "python",
   "nbconvert_exporter": "python",
   "pygments_lexer": "ipython3",
   "version": "3.6.10"
  },
  "latex_envs": {
   "LaTeX_envs_menu_present": true,
   "autoclose": false,
   "autocomplete": true,
   "bibliofile": "biblio.bib",
   "cite_by": "apalike",
   "current_citInitial": 1,
   "eqLabelWithNumbers": true,
   "eqNumInitial": 1,
   "hotkeys": {
    "equation": "Ctrl-E",
    "itemize": "Ctrl-I"
   },
   "labels_anchors": false,
   "latex_user_defs": false,
   "report_style_numbering": false,
   "user_envs_cfg": false
  },
  "interpreter": {
   "hash": "352eb0fdbc39df23c3941759226aac7a80e9e8fcb0968112f6f9929c3d7daf2e"
  }
 },
 "nbformat": 4,
 "nbformat_minor": 4
}