{
 "cells": [
  {
   "source": [
    "# VacationPy"
   ],
   "cell_type": "markdown",
   "metadata": {}
  },
  {
   "cell_type": "code",
   "execution_count": 13,
   "metadata": {},
   "outputs": [],
   "source": [
    "# Dependencies and Setup\n",
    "import matplotlib.pyplot as plt\n",
    "import pandas as pd\n",
    "import numpy as np\n",
    "import requests\n",
    "import gmaps\n",
    "import os\n",
    "\n",
    "# Import API key\n",
    "from api_keys import g_key\n",
    "\n",
    "# https://developers.google.com/maps/reporting/gmp-reporting as reference for how to monitor your usage and billing."
   ]
  },
  {
   "source": [
    "## Store Part I results into DataFrame"
   ],
   "cell_type": "markdown",
   "metadata": {}
  },
  {
   "cell_type": "code",
   "execution_count": 22,
   "metadata": {},
   "outputs": [
    {
     "output_type": "execute_result",
     "data": {
      "text/plain": [
       "      No  City ID                City Country      Lat       Lng  Temperature  \\\n",
       "0      0   986717        Kruisfontein      ZA -34.0033   24.7314        48.88   \n",
       "1      1   746983            Gelibolu      TR  40.4103   26.6708        76.86   \n",
       "2      2  2206939               Bluff      NZ -46.6000  168.3333        49.80   \n",
       "3      3   537094              Lal'sk      RU  60.7415   47.5862        70.74   \n",
       "4      4  5122534           Jamestown      US  42.0970  -79.2353        78.28   \n",
       "..   ...      ...                 ...     ...      ...       ...          ...   \n",
       "554  554  3451399  Ribas do Rio Pardo      BR -20.4431  -53.7592        80.53   \n",
       "555  555   186180              Moyale      KE   3.5167   39.0584        69.73   \n",
       "556  556   934479         Grand Gaube      MU -20.0064   57.6608        69.39   \n",
       "557  557  3118304              Llanes      ES  43.4198   -4.7549        62.02   \n",
       "558  558  2629833             Husavik      IS  66.0449  -17.3389        53.51   \n",
       "\n",
       "     Humidity  Clouds  Wind Speed  \n",
       "0          89       3        4.41  \n",
       "1          76       0        1.77  \n",
       "2          96     100        9.26  \n",
       "3          69      41        5.01  \n",
       "4          39       1       11.01  \n",
       "..        ...     ...         ...  \n",
       "554        32      97        8.30  \n",
       "555        60     100       10.42  \n",
       "556        64      93        4.00  \n",
       "557        80      39        4.83  \n",
       "558        67     100        4.16  \n",
       "\n",
       "[559 rows x 10 columns]"
      ],
      "text/html": "<div>\n<style scoped>\n    .dataframe tbody tr th:only-of-type {\n        vertical-align: middle;\n    }\n\n    .dataframe tbody tr th {\n        vertical-align: top;\n    }\n\n    .dataframe thead th {\n        text-align: right;\n    }\n</style>\n<table border=\"1\" class=\"dataframe\">\n  <thead>\n    <tr style=\"text-align: right;\">\n      <th></th>\n      <th>No</th>\n      <th>City ID</th>\n      <th>City</th>\n      <th>Country</th>\n      <th>Lat</th>\n      <th>Lng</th>\n      <th>Temperature</th>\n      <th>Humidity</th>\n      <th>Clouds</th>\n      <th>Wind Speed</th>\n    </tr>\n  </thead>\n  <tbody>\n    <tr>\n      <th>0</th>\n      <td>0</td>\n      <td>986717</td>\n      <td>Kruisfontein</td>\n      <td>ZA</td>\n      <td>-34.0033</td>\n      <td>24.7314</td>\n      <td>48.88</td>\n      <td>89</td>\n      <td>3</td>\n      <td>4.41</td>\n    </tr>\n    <tr>\n      <th>1</th>\n      <td>1</td>\n      <td>746983</td>\n      <td>Gelibolu</td>\n      <td>TR</td>\n      <td>40.4103</td>\n      <td>26.6708</td>\n      <td>76.86</td>\n      <td>76</td>\n      <td>0</td>\n      <td>1.77</td>\n    </tr>\n    <tr>\n      <th>2</th>\n      <td>2</td>\n      <td>2206939</td>\n      <td>Bluff</td>\n      <td>NZ</td>\n      <td>-46.6000</td>\n      <td>168.3333</td>\n      <td>49.80</td>\n      <td>96</td>\n      <td>100</td>\n      <td>9.26</td>\n    </tr>\n    <tr>\n      <th>3</th>\n      <td>3</td>\n      <td>537094</td>\n      <td>Lal'sk</td>\n      <td>RU</td>\n      <td>60.7415</td>\n      <td>47.5862</td>\n      <td>70.74</td>\n      <td>69</td>\n      <td>41</td>\n      <td>5.01</td>\n    </tr>\n    <tr>\n      <th>4</th>\n      <td>4</td>\n      <td>5122534</td>\n      <td>Jamestown</td>\n      <td>US</td>\n      <td>42.0970</td>\n      <td>-79.2353</td>\n      <td>78.28</td>\n      <td>39</td>\n      <td>1</td>\n      <td>11.01</td>\n    </tr>\n    <tr>\n      <th>...</th>\n      <td>...</td>\n      <td>...</td>\n      <td>...</td>\n      <td>...</td>\n      <td>...</td>\n      <td>...</td>\n      <td>...</td>\n      <td>...</td>\n      <td>...</td>\n      <td>...</td>\n    </tr>\n    <tr>\n      <th>554</th>\n      <td>554</td>\n      <td>3451399</td>\n      <td>Ribas do Rio Pardo</td>\n      <td>BR</td>\n      <td>-20.4431</td>\n      <td>-53.7592</td>\n      <td>80.53</td>\n      <td>32</td>\n      <td>97</td>\n      <td>8.30</td>\n    </tr>\n    <tr>\n      <th>555</th>\n      <td>555</td>\n      <td>186180</td>\n      <td>Moyale</td>\n      <td>KE</td>\n      <td>3.5167</td>\n      <td>39.0584</td>\n      <td>69.73</td>\n      <td>60</td>\n      <td>100</td>\n      <td>10.42</td>\n    </tr>\n    <tr>\n      <th>556</th>\n      <td>556</td>\n      <td>934479</td>\n      <td>Grand Gaube</td>\n      <td>MU</td>\n      <td>-20.0064</td>\n      <td>57.6608</td>\n      <td>69.39</td>\n      <td>64</td>\n      <td>93</td>\n      <td>4.00</td>\n    </tr>\n    <tr>\n      <th>557</th>\n      <td>557</td>\n      <td>3118304</td>\n      <td>Llanes</td>\n      <td>ES</td>\n      <td>43.4198</td>\n      <td>-4.7549</td>\n      <td>62.02</td>\n      <td>80</td>\n      <td>39</td>\n      <td>4.83</td>\n    </tr>\n    <tr>\n      <th>558</th>\n      <td>558</td>\n      <td>2629833</td>\n      <td>Husavik</td>\n      <td>IS</td>\n      <td>66.0449</td>\n      <td>-17.3389</td>\n      <td>53.51</td>\n      <td>67</td>\n      <td>100</td>\n      <td>4.16</td>\n    </tr>\n  </tbody>\n</table>\n<p>559 rows × 10 columns</p>\n</div>"
     },
     "metadata": {},
     "execution_count": 22
    }
   ],
   "source": [
    "# Load the csv exported in Part I to a DataFrame\n",
    "csv_file = os.path.join('..', 'Output', 'city_weather.csv')\n",
    "city_df = pd.read_csv(csv_file) \n",
    "city_df"
   ]
  },
  {
   "source": [
    "## Humidity Heatmap"
   ],
   "cell_type": "markdown",
   "metadata": {}
  },
  {
   "cell_type": "code",
   "execution_count": 23,
   "metadata": {},
   "outputs": [
    {
     "output_type": "display_data",
     "data": {
      "text/plain": "Figure(layout=FigureLayout(height='420px'))",
      "application/vnd.jupyter.widget-view+json": {
       "version_major": 2,
       "version_minor": 0,
       "model_id": "ad1c906e507041b1a04b74b745377757"
      }
     },
     "metadata": {}
    }
   ],
   "source": [
    "# Configure gmaps\n",
    "gmaps.configure(api_key=g_key)\n",
    "\n",
    "# Use the Lat and Lng as locations and Humidity as the weight\n",
    "locations = city_df[[\"Lat\", \"Lng\"]]\n",
    "humidity = city_df[\"Humidity\"]\n",
    "\n",
    "# Add Heatmap layer to map\n",
    "fig = gmaps.figure()\n",
    "heat_layer = gmaps.heatmap_layer(locations, weights=humidity, dissipating=False)\n",
    "heat_layer.max_intensity = 100\n",
    "heat_layer.point_radius = 5\n",
    "\n",
    "fig.add_layer(heat_layer)\n",
    "fig"
   ]
  },
  {
   "cell_type": "markdown",
   "metadata": {},
   "source": [
    "## Create new DataFrame fitting weather criteria"
   ]
  },
  {
   "cell_type": "code",
   "execution_count": 24,
   "metadata": {},
   "outputs": [
    {
     "output_type": "execute_result",
     "data": {
      "text/plain": [
       "      No  City ID             City Country      Lat       Lng  Temperature  \\\n",
       "31    31  3460107          Jaraguá      BR -15.7569  -49.3344        75.42   \n",
       "72    72  5106841           Albany      US  42.6001  -73.9662        76.39   \n",
       "91    91  5364271           Laguna      US  38.4210 -121.4238        85.03   \n",
       "130  130   100926            Umluj      SA  25.0213   37.2685        84.92   \n",
       "164  164  5044290    Saint Anthony      US  45.0205  -93.2180        83.88   \n",
       "188  188   921786      Mitsamiouli      KM -11.3847   43.2844        75.42   \n",
       "211  211  3472473    Alto Araguaia      BR -17.3147  -53.2153        77.40   \n",
       "245  245  1529376            Korla      CN  41.7597   86.1469        75.78   \n",
       "261  261  3203651    Bosanski Brod      BA  45.1375   17.9897        82.65   \n",
       "265  265   792680         Belgrade      RS  44.8040   20.4651        80.85   \n",
       "317  317  2548885              Fes      MA  34.0372   -4.9998        82.65   \n",
       "322  322  5815136        Washougal      US  45.5826 -122.3534        83.26   \n",
       "327  327  1142226       Dawlatabad      AF  36.4141   64.9053        77.99   \n",
       "359  359   583345  Aleksandrov Gay      RU  50.1470   48.5704        78.91   \n",
       "369  369  3464724       Diamantino      BR -14.4086  -56.4461        84.69   \n",
       "372  372  5110365           Broome      US  42.2506  -75.8330        75.99   \n",
       "398  398  3522526   Nuevo Progreso      MX  23.1667  -97.9500        89.62   \n",
       "404  404  5334223         Carlsbad      US  33.1581 -117.3506        75.04   \n",
       "417  417  3456642      Mozarlândia      BR -14.7447  -50.5706        84.16   \n",
       "459  459  1529484            Kumul      CN  42.8000   93.4500        79.39   \n",
       "490  490   359796             Suez      EG  29.9737   32.5263        78.33   \n",
       "507  507  4362001             Mayo      US  38.8876  -76.5119        76.53   \n",
       "\n",
       "     Humidity  Clouds  Wind Speed  \n",
       "31         31       0        1.86  \n",
       "72         39       0        9.55  \n",
       "91         38       1        5.01  \n",
       "130        55       2        9.53  \n",
       "164        55       1        4.00  \n",
       "188        64       0        4.23  \n",
       "211        28       8        3.27  \n",
       "245        24       0        1.41  \n",
       "261        59       2        4.21  \n",
       "265        42       0        9.22  \n",
       "317        39       0        5.75  \n",
       "322        47       1        4.61  \n",
       "327        17       0        6.91  \n",
       "359        50       0        8.61  \n",
       "369        33       0        2.75  \n",
       "372        45       1        3.00  \n",
       "398        66       3        5.99  \n",
       "404        69       1        7.00  \n",
       "417        25       0        4.12  \n",
       "459        21       1        3.96  \n",
       "490        50       0        8.72  \n",
       "507        46       1        5.99  "
      ],
      "text/html": "<div>\n<style scoped>\n    .dataframe tbody tr th:only-of-type {\n        vertical-align: middle;\n    }\n\n    .dataframe tbody tr th {\n        vertical-align: top;\n    }\n\n    .dataframe thead th {\n        text-align: right;\n    }\n</style>\n<table border=\"1\" class=\"dataframe\">\n  <thead>\n    <tr style=\"text-align: right;\">\n      <th></th>\n      <th>No</th>\n      <th>City ID</th>\n      <th>City</th>\n      <th>Country</th>\n      <th>Lat</th>\n      <th>Lng</th>\n      <th>Temperature</th>\n      <th>Humidity</th>\n      <th>Clouds</th>\n      <th>Wind Speed</th>\n    </tr>\n  </thead>\n  <tbody>\n    <tr>\n      <th>31</th>\n      <td>31</td>\n      <td>3460107</td>\n      <td>Jaraguá</td>\n      <td>BR</td>\n      <td>-15.7569</td>\n      <td>-49.3344</td>\n      <td>75.42</td>\n      <td>31</td>\n      <td>0</td>\n      <td>1.86</td>\n    </tr>\n    <tr>\n      <th>72</th>\n      <td>72</td>\n      <td>5106841</td>\n      <td>Albany</td>\n      <td>US</td>\n      <td>42.6001</td>\n      <td>-73.9662</td>\n      <td>76.39</td>\n      <td>39</td>\n      <td>0</td>\n      <td>9.55</td>\n    </tr>\n    <tr>\n      <th>91</th>\n      <td>91</td>\n      <td>5364271</td>\n      <td>Laguna</td>\n      <td>US</td>\n      <td>38.4210</td>\n      <td>-121.4238</td>\n      <td>85.03</td>\n      <td>38</td>\n      <td>1</td>\n      <td>5.01</td>\n    </tr>\n    <tr>\n      <th>130</th>\n      <td>130</td>\n      <td>100926</td>\n      <td>Umluj</td>\n      <td>SA</td>\n      <td>25.0213</td>\n      <td>37.2685</td>\n      <td>84.92</td>\n      <td>55</td>\n      <td>2</td>\n      <td>9.53</td>\n    </tr>\n    <tr>\n      <th>164</th>\n      <td>164</td>\n      <td>5044290</td>\n      <td>Saint Anthony</td>\n      <td>US</td>\n      <td>45.0205</td>\n      <td>-93.2180</td>\n      <td>83.88</td>\n      <td>55</td>\n      <td>1</td>\n      <td>4.00</td>\n    </tr>\n    <tr>\n      <th>188</th>\n      <td>188</td>\n      <td>921786</td>\n      <td>Mitsamiouli</td>\n      <td>KM</td>\n      <td>-11.3847</td>\n      <td>43.2844</td>\n      <td>75.42</td>\n      <td>64</td>\n      <td>0</td>\n      <td>4.23</td>\n    </tr>\n    <tr>\n      <th>211</th>\n      <td>211</td>\n      <td>3472473</td>\n      <td>Alto Araguaia</td>\n      <td>BR</td>\n      <td>-17.3147</td>\n      <td>-53.2153</td>\n      <td>77.40</td>\n      <td>28</td>\n      <td>8</td>\n      <td>3.27</td>\n    </tr>\n    <tr>\n      <th>245</th>\n      <td>245</td>\n      <td>1529376</td>\n      <td>Korla</td>\n      <td>CN</td>\n      <td>41.7597</td>\n      <td>86.1469</td>\n      <td>75.78</td>\n      <td>24</td>\n      <td>0</td>\n      <td>1.41</td>\n    </tr>\n    <tr>\n      <th>261</th>\n      <td>261</td>\n      <td>3203651</td>\n      <td>Bosanski Brod</td>\n      <td>BA</td>\n      <td>45.1375</td>\n      <td>17.9897</td>\n      <td>82.65</td>\n      <td>59</td>\n      <td>2</td>\n      <td>4.21</td>\n    </tr>\n    <tr>\n      <th>265</th>\n      <td>265</td>\n      <td>792680</td>\n      <td>Belgrade</td>\n      <td>RS</td>\n      <td>44.8040</td>\n      <td>20.4651</td>\n      <td>80.85</td>\n      <td>42</td>\n      <td>0</td>\n      <td>9.22</td>\n    </tr>\n    <tr>\n      <th>317</th>\n      <td>317</td>\n      <td>2548885</td>\n      <td>Fes</td>\n      <td>MA</td>\n      <td>34.0372</td>\n      <td>-4.9998</td>\n      <td>82.65</td>\n      <td>39</td>\n      <td>0</td>\n      <td>5.75</td>\n    </tr>\n    <tr>\n      <th>322</th>\n      <td>322</td>\n      <td>5815136</td>\n      <td>Washougal</td>\n      <td>US</td>\n      <td>45.5826</td>\n      <td>-122.3534</td>\n      <td>83.26</td>\n      <td>47</td>\n      <td>1</td>\n      <td>4.61</td>\n    </tr>\n    <tr>\n      <th>327</th>\n      <td>327</td>\n      <td>1142226</td>\n      <td>Dawlatabad</td>\n      <td>AF</td>\n      <td>36.4141</td>\n      <td>64.9053</td>\n      <td>77.99</td>\n      <td>17</td>\n      <td>0</td>\n      <td>6.91</td>\n    </tr>\n    <tr>\n      <th>359</th>\n      <td>359</td>\n      <td>583345</td>\n      <td>Aleksandrov Gay</td>\n      <td>RU</td>\n      <td>50.1470</td>\n      <td>48.5704</td>\n      <td>78.91</td>\n      <td>50</td>\n      <td>0</td>\n      <td>8.61</td>\n    </tr>\n    <tr>\n      <th>369</th>\n      <td>369</td>\n      <td>3464724</td>\n      <td>Diamantino</td>\n      <td>BR</td>\n      <td>-14.4086</td>\n      <td>-56.4461</td>\n      <td>84.69</td>\n      <td>33</td>\n      <td>0</td>\n      <td>2.75</td>\n    </tr>\n    <tr>\n      <th>372</th>\n      <td>372</td>\n      <td>5110365</td>\n      <td>Broome</td>\n      <td>US</td>\n      <td>42.2506</td>\n      <td>-75.8330</td>\n      <td>75.99</td>\n      <td>45</td>\n      <td>1</td>\n      <td>3.00</td>\n    </tr>\n    <tr>\n      <th>398</th>\n      <td>398</td>\n      <td>3522526</td>\n      <td>Nuevo Progreso</td>\n      <td>MX</td>\n      <td>23.1667</td>\n      <td>-97.9500</td>\n      <td>89.62</td>\n      <td>66</td>\n      <td>3</td>\n      <td>5.99</td>\n    </tr>\n    <tr>\n      <th>404</th>\n      <td>404</td>\n      <td>5334223</td>\n      <td>Carlsbad</td>\n      <td>US</td>\n      <td>33.1581</td>\n      <td>-117.3506</td>\n      <td>75.04</td>\n      <td>69</td>\n      <td>1</td>\n      <td>7.00</td>\n    </tr>\n    <tr>\n      <th>417</th>\n      <td>417</td>\n      <td>3456642</td>\n      <td>Mozarlândia</td>\n      <td>BR</td>\n      <td>-14.7447</td>\n      <td>-50.5706</td>\n      <td>84.16</td>\n      <td>25</td>\n      <td>0</td>\n      <td>4.12</td>\n    </tr>\n    <tr>\n      <th>459</th>\n      <td>459</td>\n      <td>1529484</td>\n      <td>Kumul</td>\n      <td>CN</td>\n      <td>42.8000</td>\n      <td>93.4500</td>\n      <td>79.39</td>\n      <td>21</td>\n      <td>1</td>\n      <td>3.96</td>\n    </tr>\n    <tr>\n      <th>490</th>\n      <td>490</td>\n      <td>359796</td>\n      <td>Suez</td>\n      <td>EG</td>\n      <td>29.9737</td>\n      <td>32.5263</td>\n      <td>78.33</td>\n      <td>50</td>\n      <td>0</td>\n      <td>8.72</td>\n    </tr>\n    <tr>\n      <th>507</th>\n      <td>507</td>\n      <td>4362001</td>\n      <td>Mayo</td>\n      <td>US</td>\n      <td>38.8876</td>\n      <td>-76.5119</td>\n      <td>76.53</td>\n      <td>46</td>\n      <td>1</td>\n      <td>5.99</td>\n    </tr>\n  </tbody>\n</table>\n</div>"
     },
     "metadata": {},
     "execution_count": 24
    }
   ],
   "source": [
    "# Narrow down the cities to fit weather conditions.\n",
    "# Drop any rows will null values.\n",
    "ideal_df = city_df[(city_df['Temperature'] >= 75) & (city_df['Temperature'] <= 90)]\n",
    "ideal_df = ideal_df[ideal_df['Wind Speed'] <= 10]\n",
    "ideal_df = ideal_df[ideal_df['Clouds'] <= 10]\n",
    "ideal_df = ideal_df[ideal_df['Humidity'] <= 70]\n",
    "hotel_df = ideal_df\n",
    "hotel_df"
   ]
  },
  {
   "source": [
    "## Hotel Map"
   ],
   "cell_type": "markdown",
   "metadata": {}
  },
  {
   "cell_type": "code",
   "execution_count": 26,
   "metadata": {},
   "outputs": [
    {
     "output_type": "execute_result",
     "data": {
      "text/plain": [
       "      No  City ID             City Country      Lat       Lng  Temperature  \\\n",
       "31    31  3460107          Jaraguá      BR -15.7569  -49.3344        75.42   \n",
       "72    72  5106841           Albany      US  42.6001  -73.9662        76.39   \n",
       "91    91  5364271           Laguna      US  38.4210 -121.4238        85.03   \n",
       "130  130   100926            Umluj      SA  25.0213   37.2685        84.92   \n",
       "164  164  5044290    Saint Anthony      US  45.0205  -93.2180        83.88   \n",
       "188  188   921786      Mitsamiouli      KM -11.3847   43.2844        75.42   \n",
       "211  211  3472473    Alto Araguaia      BR -17.3147  -53.2153        77.40   \n",
       "245  245  1529376            Korla      CN  41.7597   86.1469        75.78   \n",
       "261  261  3203651    Bosanski Brod      BA  45.1375   17.9897        82.65   \n",
       "265  265   792680         Belgrade      RS  44.8040   20.4651        80.85   \n",
       "317  317  2548885              Fes      MA  34.0372   -4.9998        82.65   \n",
       "322  322  5815136        Washougal      US  45.5826 -122.3534        83.26   \n",
       "327  327  1142226       Dawlatabad      AF  36.4141   64.9053        77.99   \n",
       "359  359   583345  Aleksandrov Gay      RU  50.1470   48.5704        78.91   \n",
       "369  369  3464724       Diamantino      BR -14.4086  -56.4461        84.69   \n",
       "372  372  5110365           Broome      US  42.2506  -75.8330        75.99   \n",
       "398  398  3522526   Nuevo Progreso      MX  23.1667  -97.9500        89.62   \n",
       "404  404  5334223         Carlsbad      US  33.1581 -117.3506        75.04   \n",
       "417  417  3456642      Mozarlândia      BR -14.7447  -50.5706        84.16   \n",
       "459  459  1529484            Kumul      CN  42.8000   93.4500        79.39   \n",
       "490  490   359796             Suez      EG  29.9737   32.5263        78.33   \n",
       "507  507  4362001             Mayo      US  38.8876  -76.5119        76.53   \n",
       "\n",
       "     Humidity  Clouds  Wind Speed Hotel Name  \n",
       "31         31       0        1.86             \n",
       "72         39       0        9.55             \n",
       "91         38       1        5.01             \n",
       "130        55       2        9.53             \n",
       "164        55       1        4.00             \n",
       "188        64       0        4.23             \n",
       "211        28       8        3.27             \n",
       "245        24       0        1.41             \n",
       "261        59       2        4.21             \n",
       "265        42       0        9.22             \n",
       "317        39       0        5.75             \n",
       "322        47       1        4.61             \n",
       "327        17       0        6.91             \n",
       "359        50       0        8.61             \n",
       "369        33       0        2.75             \n",
       "372        45       1        3.00             \n",
       "398        66       3        5.99             \n",
       "404        69       1        7.00             \n",
       "417        25       0        4.12             \n",
       "459        21       1        3.96             \n",
       "490        50       0        8.72             \n",
       "507        46       1        5.99             "
      ],
      "text/html": "<div>\n<style scoped>\n    .dataframe tbody tr th:only-of-type {\n        vertical-align: middle;\n    }\n\n    .dataframe tbody tr th {\n        vertical-align: top;\n    }\n\n    .dataframe thead th {\n        text-align: right;\n    }\n</style>\n<table border=\"1\" class=\"dataframe\">\n  <thead>\n    <tr style=\"text-align: right;\">\n      <th></th>\n      <th>No</th>\n      <th>City ID</th>\n      <th>City</th>\n      <th>Country</th>\n      <th>Lat</th>\n      <th>Lng</th>\n      <th>Temperature</th>\n      <th>Humidity</th>\n      <th>Clouds</th>\n      <th>Wind Speed</th>\n      <th>Hotel Name</th>\n    </tr>\n  </thead>\n  <tbody>\n    <tr>\n      <th>31</th>\n      <td>31</td>\n      <td>3460107</td>\n      <td>Jaraguá</td>\n      <td>BR</td>\n      <td>-15.7569</td>\n      <td>-49.3344</td>\n      <td>75.42</td>\n      <td>31</td>\n      <td>0</td>\n      <td>1.86</td>\n      <td></td>\n    </tr>\n    <tr>\n      <th>72</th>\n      <td>72</td>\n      <td>5106841</td>\n      <td>Albany</td>\n      <td>US</td>\n      <td>42.6001</td>\n      <td>-73.9662</td>\n      <td>76.39</td>\n      <td>39</td>\n      <td>0</td>\n      <td>9.55</td>\n      <td></td>\n    </tr>\n    <tr>\n      <th>91</th>\n      <td>91</td>\n      <td>5364271</td>\n      <td>Laguna</td>\n      <td>US</td>\n      <td>38.4210</td>\n      <td>-121.4238</td>\n      <td>85.03</td>\n      <td>38</td>\n      <td>1</td>\n      <td>5.01</td>\n      <td></td>\n    </tr>\n    <tr>\n      <th>130</th>\n      <td>130</td>\n      <td>100926</td>\n      <td>Umluj</td>\n      <td>SA</td>\n      <td>25.0213</td>\n      <td>37.2685</td>\n      <td>84.92</td>\n      <td>55</td>\n      <td>2</td>\n      <td>9.53</td>\n      <td></td>\n    </tr>\n    <tr>\n      <th>164</th>\n      <td>164</td>\n      <td>5044290</td>\n      <td>Saint Anthony</td>\n      <td>US</td>\n      <td>45.0205</td>\n      <td>-93.2180</td>\n      <td>83.88</td>\n      <td>55</td>\n      <td>1</td>\n      <td>4.00</td>\n      <td></td>\n    </tr>\n    <tr>\n      <th>188</th>\n      <td>188</td>\n      <td>921786</td>\n      <td>Mitsamiouli</td>\n      <td>KM</td>\n      <td>-11.3847</td>\n      <td>43.2844</td>\n      <td>75.42</td>\n      <td>64</td>\n      <td>0</td>\n      <td>4.23</td>\n      <td></td>\n    </tr>\n    <tr>\n      <th>211</th>\n      <td>211</td>\n      <td>3472473</td>\n      <td>Alto Araguaia</td>\n      <td>BR</td>\n      <td>-17.3147</td>\n      <td>-53.2153</td>\n      <td>77.40</td>\n      <td>28</td>\n      <td>8</td>\n      <td>3.27</td>\n      <td></td>\n    </tr>\n    <tr>\n      <th>245</th>\n      <td>245</td>\n      <td>1529376</td>\n      <td>Korla</td>\n      <td>CN</td>\n      <td>41.7597</td>\n      <td>86.1469</td>\n      <td>75.78</td>\n      <td>24</td>\n      <td>0</td>\n      <td>1.41</td>\n      <td></td>\n    </tr>\n    <tr>\n      <th>261</th>\n      <td>261</td>\n      <td>3203651</td>\n      <td>Bosanski Brod</td>\n      <td>BA</td>\n      <td>45.1375</td>\n      <td>17.9897</td>\n      <td>82.65</td>\n      <td>59</td>\n      <td>2</td>\n      <td>4.21</td>\n      <td></td>\n    </tr>\n    <tr>\n      <th>265</th>\n      <td>265</td>\n      <td>792680</td>\n      <td>Belgrade</td>\n      <td>RS</td>\n      <td>44.8040</td>\n      <td>20.4651</td>\n      <td>80.85</td>\n      <td>42</td>\n      <td>0</td>\n      <td>9.22</td>\n      <td></td>\n    </tr>\n    <tr>\n      <th>317</th>\n      <td>317</td>\n      <td>2548885</td>\n      <td>Fes</td>\n      <td>MA</td>\n      <td>34.0372</td>\n      <td>-4.9998</td>\n      <td>82.65</td>\n      <td>39</td>\n      <td>0</td>\n      <td>5.75</td>\n      <td></td>\n    </tr>\n    <tr>\n      <th>322</th>\n      <td>322</td>\n      <td>5815136</td>\n      <td>Washougal</td>\n      <td>US</td>\n      <td>45.5826</td>\n      <td>-122.3534</td>\n      <td>83.26</td>\n      <td>47</td>\n      <td>1</td>\n      <td>4.61</td>\n      <td></td>\n    </tr>\n    <tr>\n      <th>327</th>\n      <td>327</td>\n      <td>1142226</td>\n      <td>Dawlatabad</td>\n      <td>AF</td>\n      <td>36.4141</td>\n      <td>64.9053</td>\n      <td>77.99</td>\n      <td>17</td>\n      <td>0</td>\n      <td>6.91</td>\n      <td></td>\n    </tr>\n    <tr>\n      <th>359</th>\n      <td>359</td>\n      <td>583345</td>\n      <td>Aleksandrov Gay</td>\n      <td>RU</td>\n      <td>50.1470</td>\n      <td>48.5704</td>\n      <td>78.91</td>\n      <td>50</td>\n      <td>0</td>\n      <td>8.61</td>\n      <td></td>\n    </tr>\n    <tr>\n      <th>369</th>\n      <td>369</td>\n      <td>3464724</td>\n      <td>Diamantino</td>\n      <td>BR</td>\n      <td>-14.4086</td>\n      <td>-56.4461</td>\n      <td>84.69</td>\n      <td>33</td>\n      <td>0</td>\n      <td>2.75</td>\n      <td></td>\n    </tr>\n    <tr>\n      <th>372</th>\n      <td>372</td>\n      <td>5110365</td>\n      <td>Broome</td>\n      <td>US</td>\n      <td>42.2506</td>\n      <td>-75.8330</td>\n      <td>75.99</td>\n      <td>45</td>\n      <td>1</td>\n      <td>3.00</td>\n      <td></td>\n    </tr>\n    <tr>\n      <th>398</th>\n      <td>398</td>\n      <td>3522526</td>\n      <td>Nuevo Progreso</td>\n      <td>MX</td>\n      <td>23.1667</td>\n      <td>-97.9500</td>\n      <td>89.62</td>\n      <td>66</td>\n      <td>3</td>\n      <td>5.99</td>\n      <td></td>\n    </tr>\n    <tr>\n      <th>404</th>\n      <td>404</td>\n      <td>5334223</td>\n      <td>Carlsbad</td>\n      <td>US</td>\n      <td>33.1581</td>\n      <td>-117.3506</td>\n      <td>75.04</td>\n      <td>69</td>\n      <td>1</td>\n      <td>7.00</td>\n      <td></td>\n    </tr>\n    <tr>\n      <th>417</th>\n      <td>417</td>\n      <td>3456642</td>\n      <td>Mozarlândia</td>\n      <td>BR</td>\n      <td>-14.7447</td>\n      <td>-50.5706</td>\n      <td>84.16</td>\n      <td>25</td>\n      <td>0</td>\n      <td>4.12</td>\n      <td></td>\n    </tr>\n    <tr>\n      <th>459</th>\n      <td>459</td>\n      <td>1529484</td>\n      <td>Kumul</td>\n      <td>CN</td>\n      <td>42.8000</td>\n      <td>93.4500</td>\n      <td>79.39</td>\n      <td>21</td>\n      <td>1</td>\n      <td>3.96</td>\n      <td></td>\n    </tr>\n    <tr>\n      <th>490</th>\n      <td>490</td>\n      <td>359796</td>\n      <td>Suez</td>\n      <td>EG</td>\n      <td>29.9737</td>\n      <td>32.5263</td>\n      <td>78.33</td>\n      <td>50</td>\n      <td>0</td>\n      <td>8.72</td>\n      <td></td>\n    </tr>\n    <tr>\n      <th>507</th>\n      <td>507</td>\n      <td>4362001</td>\n      <td>Mayo</td>\n      <td>US</td>\n      <td>38.8876</td>\n      <td>-76.5119</td>\n      <td>76.53</td>\n      <td>46</td>\n      <td>1</td>\n      <td>5.99</td>\n      <td></td>\n    </tr>\n  </tbody>\n</table>\n</div>"
     },
     "metadata": {},
     "execution_count": 26
    }
   ],
   "source": [
    "# Store into variable named hotel_df.\n",
    "# Add a \"Hotel Name\" column to the DataFrame.\n",
    "hotel_df['Hotel Name'] = \"\"\n",
    "hotel_df"
   ]
  },
  {
   "cell_type": "code",
   "execution_count": null,
   "metadata": {},
   "outputs": [],
   "source": [
    "# Set parameters to search for hotels with 5000 meters.\n",
    "# Hit the Google Places API for each city's coordinates.\n",
    "# Store the first Hotel result into the DataFrame.\n",
    "# Plot markers on top of the heatmap.\n",
    "for index, row in hotel_df.iterrows():\n",
    "    try:\n",
    "        base_url = \"https://maps.googleapis.com/maps/api/place/nearbysearch/json\"\n",
    "        params = {\"keyword\": \"hotel\", \"radius\": 5000, \"key\": g_key}\n",
    "\n",
    "        lat = row['Lat']\n",
    "        lng = row['Lng']\n",
    "\n",
    "        params['location'] = f\"{lat}, {lng}\"\n",
    "        hotel_data = requests.get(base_url, params=params).json()\n",
    "        hotel_df.loc[index, \"Hotel Name\"] = hotel_data[\"results\"][0][\"name\"]\n",
    "        \n",
    "    except IndexError:                \n",
    "        hotel_df.loc[index, \"Hotel Name\"] = \"NaN\"\n",
    "\n",
    "hotel_df"
   ]
  },
  {
   "cell_type": "code",
   "execution_count": null,
   "metadata": {},
   "outputs": [],
   "source": [
    "# NOTE: Do not change any of the code in this cell\n",
    "\n",
    "# Using the template add the hotel marks to the heatmap\n",
    "info_box_template = \"\"\"\n",
    "<dl>\n",
    "<dt>Name</dt><dd>{Hotel Name}</dd>\n",
    "<dt>City</dt><dd>{City}</dd>\n",
    "<dt>Country</dt><dd>{Country}</dd>\n",
    "</dl>\n",
    "\"\"\"\n",
    "# Store the DataFrame Row\n",
    "# NOTE: be sure to update with your DataFrame name\n",
    "hotel_info = [info_box_template.format(**row) for index, row in hotel_df.iterrows()]\n",
    "locations = hotel_df[[\"Lat\", \"Lng\"]]"
   ]
  },
  {
   "cell_type": "code",
   "execution_count": null,
   "metadata": {},
   "outputs": [],
   "source": [
    "# Add marker layer ontop of heat map\n",
    "markers = gmaps.marker_layer(locations, info_box_content=hotel_info)\n",
    "fig.add_layer(markers)\n",
    "# Display figure\n",
    "fig"
   ]
  },
  {
   "cell_type": "code",
   "execution_count": null,
   "metadata": {},
   "outputs": [],
   "source": []
  }
 ],
 "metadata": {
  "kernelspec": {
   "name": "python3",
   "display_name": "Python 3.6.10 64-bit ('PythonData': conda)"
  },
  "language_info": {
   "codemirror_mode": {
    "name": "ipython",
    "version": 3
   },
   "file_extension": ".py",
   "mimetype": "text/x-python",
   "name": "python",
   "nbconvert_exporter": "python",
   "pygments_lexer": "ipython3",
   "version": "3.6.10"
  },
  "latex_envs": {
   "LaTeX_envs_menu_present": true,
   "autoclose": false,
   "autocomplete": true,
   "bibliofile": "biblio.bib",
   "cite_by": "apalike",
   "current_citInitial": 1,
   "eqLabelWithNumbers": true,
   "eqNumInitial": 1,
   "hotkeys": {
    "equation": "Ctrl-E",
    "itemize": "Ctrl-I"
   },
   "labels_anchors": false,
   "latex_user_defs": false,
   "report_style_numbering": false,
   "user_envs_cfg": false
  },
  "interpreter": {
   "hash": "352eb0fdbc39df23c3941759226aac7a80e9e8fcb0968112f6f9929c3d7daf2e"
  }
 },
 "nbformat": 4,
 "nbformat_minor": 4
}